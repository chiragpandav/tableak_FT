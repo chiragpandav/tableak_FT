{
 "cells": [
  {
   "cell_type": "code",
   "execution_count": 1,
   "id": "cb43cf5c-3b23-4b58-afe4-fe0e237381e6",
   "metadata": {},
   "outputs": [],
   "source": [
    "import torch.nn as nn\n",
    "import torch.optim as optim\n",
    "from torch.utils.data import DataLoader\n",
    "import torch\n",
    "import numpy as np\n",
    "import pandas as pd\n",
    "import pickle\n",
    "from fair_loss import FairLoss\n",
    "from torch.nn import functional as F\n",
    "from torch.utils.data import TensorDataset, DataLoader\n",
    "from torchmetrics.classification import BinaryFairness\n",
    "from fairlearn.metrics import demographic_parity_ratio,  demographic_parity_difference\n",
    "import matplotlib.pyplot as plt\n",
    "\n",
    "from sklearn.metrics import f1_score, balanced_accuracy_score,recall_score, confusion_matrix\n",
    "\n",
    "# from datasets import ADULT, German, Lawschool, HealthHeritage\n",
    "# from defenses import dp_defense"
   ]
  },
  {
   "cell_type": "code",
   "execution_count": 2,
   "id": "39a4ba92-f3de-4e75-8b99-131605d67206",
   "metadata": {},
   "outputs": [
    {
     "name": "stdout",
     "output_type": "stream",
     "text": [
      "CUDA is available.\n"
     ]
    }
   ],
   "source": [
    "if torch.cuda.is_available():\n",
    "    print(\"CUDA is available.\")\n",
    "else:\n",
    "    print(\"CUDA is not available. Running on CPU.\")"
   ]
  },
  {
   "cell_type": "code",
   "execution_count": 3,
   "id": "2d7662e0-87d0-42d3-9a90-2b6ad4194d75",
   "metadata": {},
   "outputs": [],
   "source": [
    "class LinReLU(nn.Module):\n",
    "\n",
    "    \"\"\"\n",
    "    A linear layer followed by a ReLU activation layer.\n",
    "    \"\"\"    \n",
    "    \n",
    "    def __init__(self, in_size, out_size):\n",
    "        super(LinReLU, self).__init__()      \n",
    "        linear = nn.Linear(in_size, out_size)\n",
    "        ReLU = nn.ReLU()\n",
    "        # self.Dropout = nn.Dropout(0.25)\n",
    "        self.layers = nn.Sequential(linear, ReLU)\n",
    "\n",
    "    def reset_parameters(self):\n",
    "        self.layers[0].reset_parameters()\n",
    "        return self\n",
    "\n",
    "    def forward(self, x):\n",
    "        x = self.layers(x)\n",
    "        return x\n",
    "\n",
    "class FullyConnected(nn.Module):\n",
    "    \"\"\"\n",
    "    A simple fully connected neural network with ReLU activations.\n",
    "    \"\"\"\n",
    "    def __init__(self, input_size, layout):\n",
    "\n",
    "        super(FullyConnected, self).__init__()\n",
    "        layers = [nn.Flatten()]  # does not play any role, but makes the code neater\n",
    "        prev_fc_size = input_size\n",
    "        for i, fc_size in enumerate(layout):\n",
    "            if i + 1 < len(layout):\n",
    "                layers += [LinReLU(prev_fc_size, fc_size)]\n",
    "            else:\n",
    "                layers += [nn.Linear(prev_fc_size, 1), nn.Sigmoid()]\n",
    "                # layers += [nn.Linear(prev_fc_size, fc_size)]\n",
    "            prev_fc_size = fc_size\n",
    "        self.layers = nn.Sequential(*layers)\n",
    "\n",
    "    def forward(self, x):\n",
    "        x = self.layers(x)\n",
    "        return x"
   ]
  },
  {
   "cell_type": "code",
   "execution_count": null,
   "id": "4899c0f4-fce2-4835-bf39-c4533a47199d",
   "metadata": {},
   "outputs": [],
   "source": []
  },
  {
   "cell_type": "code",
   "execution_count": 16,
   "id": "3b8eb8e4-6706-4a86-80a3-b8ffe6b5881a",
   "metadata": {},
   "outputs": [
    {
     "data": {
      "text/plain": [
       "<All keys matched successfully>"
      ]
     },
     "execution_count": 16,
     "metadata": {},
     "output_type": "execute_result"
    }
   ],
   "source": [
    "\n",
    "layout = [100, 100, 2]\n",
    "batch_size = 32\n",
    "num_epochs = 5  \n",
    "input_dim = 10\n",
    "\n",
    "model = FullyConnected(input_dim, layout)\n",
    "criterion = nn.BCELoss() \n",
    "optimizer = optim.Adam(model.parameters(), lr=0.01) \n",
    "\n",
    "\n",
    "model_name=\"CA\"\n",
    "# [ \"CA-\",\"FL\",\"GA\",\"IL-\",\"OH\",\"PA\",\"TX\"]\n",
    "# model.load_state_dict(torch.load(f'50_clients_data/clients_trained_model/{model_name}.pth'))\n",
    "# model.load_state_dict(torch.load(f'50_clients_data/client_DP_trained_model/{model_name}.pth'))\n",
    "# model.load_state_dict(torch.load(f'50_clients_data/clients_fair_trained_model/{model_name}.pth'))\n",
    "model.load_state_dict(torch.load(f'50_clients_data/clients_DP_Fair_trained_model/{model_name}.pth'))"
   ]
  },
  {
   "cell_type": "code",
   "execution_count": null,
   "id": "316f643d-18f3-4419-a3c6-dfe5c206c159",
   "metadata": {},
   "outputs": [],
   "source": []
  },
  {
   "cell_type": "markdown",
   "id": "03f7595b-c7eb-4845-8bf3-d4d2e55490c6",
   "metadata": {},
   "source": [
    "# Testing on SubGroup\n",
    "1. BM\n",
    "2. BW\n",
    "3. WM\n",
    "4. WW\n",
    "\n",
    "- I am using .pkl for testing (WW_test.. and other files have less data)"
   ]
  },
  {
   "cell_type": "code",
   "execution_count": 17,
   "id": "18f1a976-cc7e-47bf-b265-207eaa2a6bf3",
   "metadata": {},
   "outputs": [
    {
     "name": "stdout",
     "output_type": "stream",
     "text": [
      "WW\n",
      "Total length of WW test data: 4437\n",
      "WM\n",
      "Total length of WM test data: 4673\n",
      "BM\n",
      "Total length of BM test data: 680\n",
      "BW\n",
      "Total length of BW test data: 784\n"
     ]
    }
   ],
   "source": [
    "client_data_dir='50_clients_data/client_subG_processed/'\n",
    "\n",
    "state_codes=[\"WW\",\"WM\",\"BM\",\"BW\"]\n",
    "for state_code in state_codes:\n",
    "    print(state_code)\n",
    "\n",
    "    with open(client_data_dir + f'{state_code}.pkl', 'rb') as f:\n",
    "        test_data = pickle.load(f)\n",
    "\n",
    "    total_length = sum(len(batch[0]) for batch in test_data)\n",
    "    print(f'Total length of {state_code} test data: {total_length}')"
   ]
  },
  {
   "cell_type": "code",
   "execution_count": null,
   "id": "7cb8ce80-283a-41d9-b4cf-198de525b086",
   "metadata": {},
   "outputs": [],
   "source": []
  },
  {
   "cell_type": "code",
   "execution_count": 18,
   "id": "4d285138-3ca5-4bc4-898c-fe0bb629a104",
   "metadata": {},
   "outputs": [
    {
     "name": "stdout",
     "output_type": "stream",
     "text": [
      "Total length of WW : 4437\n",
      "val_epoch_loss: 0.5846322599074824   val_accuracy: 0.6970926301555105   TPR: 0.6547052361772244\n",
      "Total length of WM : 4673\n",
      "val_epoch_loss: 0.6295122526535372   val_accuracy: 0.7348598330836722   TPR: 0.7657657657657657\n",
      "Total length of BM : 680\n",
      "val_epoch_loss: 0.5623600022359327   val_accuracy: 0.7279411764705882   TPR: 0.6995708154506438\n",
      "Total length of BW : 784\n",
      "val_epoch_loss: 0.5575929260253907   val_accuracy: 0.7155612244897959   TPR: 0.6752293577981652\n",
      "[[193  46]\n",
      " [177 368]]\n"
     ]
    }
   ],
   "source": [
    "four_client_result_ori=[]\n",
    "four_client_result_pred=[]\n",
    "four_client_result_TPR={}\n",
    "four_client_result_cm={}\n",
    "\n",
    "\n",
    "for state_code in state_codes:\n",
    "\n",
    "    with open(client_data_dir + f'{state_code}.pkl', 'rb') as f:\n",
    "        test_data = pickle.load(f)\n",
    "\n",
    "    # total_length = sum(len(batch[0]) for batch in test_data)\n",
    "    # print(f'Total length of {state_code} test data: {total_length}')\n",
    "    \n",
    "    temp_out = []\n",
    "    temp_lab = []\n",
    "    temp_group = []\n",
    "    all_actaul_y=[]\n",
    "    all_pred_y=[]\n",
    "    temp_list_act=[]\n",
    "    temp_list_pred=[]\n",
    "    all_labels = []\n",
    "    all_predicted_classes = []\n",
    "    size_of_data=[]\n",
    "    raw_out=[]\n",
    "\n",
    "    model.eval()\n",
    "    with torch.no_grad():\n",
    "        val_running_loss = 0.0\n",
    "        val_correct = 0\n",
    "        val_total = 0        \n",
    "\n",
    "        for i, (inputs, labels) in enumerate(test_data):\n",
    "            # if i >= 50: #50*32 =1600 points:\n",
    "            #     print(i)\n",
    "            #     break\n",
    "            \n",
    "            labels = labels.unsqueeze(1).float()\n",
    "            temp_lab.append(labels)\n",
    "            outputs = model(inputs)\n",
    "            \n",
    "            val_loss = criterion(outputs, labels)\n",
    "            val_running_loss += val_loss.item()\n",
    "\n",
    "            raw_out.append(outputs)\n",
    "            \n",
    "            predicted_classes = (outputs > 0.6).float()\n",
    "            \n",
    "            temp_out.append(predicted_classes)\n",
    "\n",
    "            val_correct += (predicted_classes == labels).sum().item()\n",
    "            val_total += labels.size(0)\n",
    "\n",
    "            all_labels.extend(labels.cpu().numpy())\n",
    "            all_predicted_classes.extend(predicted_classes.cpu().numpy())\n",
    "\n",
    "        val_epoch_loss = val_running_loss / len(test_data)\n",
    "        val_accuracy = val_correct / val_total\n",
    "\n",
    "        tpr = recall_score(all_labels, all_predicted_classes)\n",
    "        f1 = f1_score(all_labels, all_predicted_classes)\n",
    "        cm = confusion_matrix(all_labels, all_predicted_classes)\n",
    "\n",
    "        all_labels = np.array(all_labels)\n",
    "        print(f\"Total length of {state_code} :\", len(all_labels))\n",
    "        all_predicted_classes = np.array(all_predicted_classes)\n",
    "\n",
    "        four_client_result_ori.append(all_labels)\n",
    "        four_client_result_pred.append(all_predicted_classes)\n",
    "        four_client_result_TPR[state_code] = tpr\n",
    "        four_client_result_cm[state_code] = cm\n",
    "        \n",
    "        print(\"val_epoch_loss:\",val_epoch_loss, \"  val_accuracy:\", val_accuracy, \"  TPR:\", tpr)\n",
    "\n",
    "print(cm)\n"
   ]
  },
  {
   "cell_type": "code",
   "execution_count": 19,
   "id": "ac884e36",
   "metadata": {},
   "outputs": [],
   "source": [
    "# temp_lab[0],raw_out[0],temp_out[0]"
   ]
  },
  {
   "cell_type": "code",
   "execution_count": 20,
   "id": "6bc7013d",
   "metadata": {},
   "outputs": [
    {
     "data": {
      "text/plain": [
       "{'WW': array([[1305,  401],\n",
       "        [ 943, 1788]]),\n",
       " 'WM': array([[1734,  719],\n",
       "        [ 520, 1700]]),\n",
       " 'BM': array([[169,  45],\n",
       "        [140, 326]]),\n",
       " 'BW': array([[193,  46],\n",
       "        [177, 368]])}"
      ]
     },
     "execution_count": 20,
     "metadata": {},
     "output_type": "execute_result"
    }
   ],
   "source": [
    "four_client_result_cm\n",
    "\n",
    "# [[TP, FP],  \n",
    "#  [FN, TN]]"
   ]
  },
  {
   "cell_type": "code",
   "execution_count": null,
   "id": "76f0af11",
   "metadata": {},
   "outputs": [],
   "source": []
  },
  {
   "cell_type": "code",
   "execution_count": 21,
   "id": "ad722bb6",
   "metadata": {},
   "outputs": [
    {
     "data": {
      "text/plain": [
       "{'WW': np.float64(0.6547052361772244),\n",
       " 'WM': np.float64(0.7657657657657657),\n",
       " 'BM': np.float64(0.6995708154506438),\n",
       " 'BW': np.float64(0.6752293577981652)}"
      ]
     },
     "execution_count": 21,
     "metadata": {},
     "output_type": "execute_result"
    }
   ],
   "source": [
    "four_client_result_TPR"
   ]
  },
  {
   "cell_type": "code",
   "execution_count": 22,
   "id": "3a17a332",
   "metadata": {},
   "outputs": [],
   "source": [
    "WW_pred=four_client_result_pred[0].flatten().tolist()\n",
    "WM_pred=four_client_result_pred[1].flatten().tolist()\n",
    "BM_pred=four_client_result_pred[2].flatten().tolist()\n",
    "BW_pred=four_client_result_pred[3].flatten().tolist()\n",
    "\n",
    "WW_ori=four_client_result_ori[0].flatten().tolist()\n",
    "WM_ori=four_client_result_ori[1].flatten().tolist()\n",
    "BM_ori=four_client_result_ori[2].flatten().tolist()\n",
    "BW_ori=four_client_result_ori[3].flatten().tolist()"
   ]
  },
  {
   "cell_type": "code",
   "execution_count": 23,
   "id": "e30c8d2a",
   "metadata": {},
   "outputs": [],
   "source": [
    "def get_prob(y_pred, y_ori):\n",
    "    matches_0 = 0\n",
    "    matches_1 = 0\n",
    "    total_zeros = 0\n",
    "    total_ones = 0\n",
    "    \n",
    "    for pred, ori in zip(y_pred, y_ori):\n",
    "        if ori == 0:  # Count for label 0\n",
    "            total_zeros += 1\n",
    "            if pred == ori:\n",
    "                matches_0 += 1\n",
    "        elif ori == 1:  # Count for label 1\n",
    "            total_ones += 1\n",
    "            if pred == ori:\n",
    "                matches_1 += 1\n",
    "    \n",
    "    # Avoid division by zero\n",
    "    prob_0 = matches_0 / total_zeros if total_zeros != 0 else 0\n",
    "    prob_1 = matches_1 / total_ones if total_ones != 0 else 0\n",
    "    \n",
    "    return [prob_0, prob_1]\n"
   ]
  },
  {
   "cell_type": "code",
   "execution_count": 24,
   "id": "743214eb",
   "metadata": {},
   "outputs": [
    {
     "data": {
      "text/plain": [
       "{'WW': [0.764947245017585, 0.6547052361772244],\n",
       " 'WM': [0.7068895230330208, 0.7657657657657657],\n",
       " 'BM': [0.7897196261682243, 0.6995708154506438],\n",
       " 'BW': [0.8075313807531381, 0.6752293577981652]}"
      ]
     },
     "execution_count": 24,
     "metadata": {},
     "output_type": "execute_result"
    }
   ],
   "source": [
    "all_subG_pred=[WW_pred,WM_pred,BM_pred,BW_pred]\n",
    "all_subG_ori=[WW_ori,WM_ori,BM_ori,BW_ori]\n",
    "prob_all_sub=[]\n",
    "sub_dict={\"WW\":0,\"WM\":0,\"BM\":0,\"BW\":0}\n",
    "for idx, sgrp in enumerate(sub_dict.keys()):\n",
    "    prob = get_prob(all_subG_pred[idx], all_subG_ori[idx])\n",
    "    sub_dict[sgrp] = prob\n",
    "\n",
    "\n",
    "sub_dict"
   ]
  },
  {
   "cell_type": "code",
   "execution_count": 25,
   "id": "edfe2cff",
   "metadata": {},
   "outputs": [],
   "source": [
    "def divide_dict_values(sub_dict):\n",
    "    results = {}\n",
    "    for key1, value1 in sub_dict.items():\n",
    "        for key2, value2 in sub_dict.items():\n",
    "            if key1 != key2:\n",
    "                try:\n",
    "                    result = [v1 / v2 if v2 != 0 else float('nan') for v1, v2 in zip(value1, value2)]\n",
    "                    results[f'{key1}/{key2}'] = result\n",
    "                    print(f'{key1}/{key2} = {result}')\n",
    "                except ZeroDivisionError:\n",
    "                    print(f'{key1}/{key2} = Division by zero error')\n",
    "        print(\"====================\")\n",
    "    return results"
   ]
  },
  {
   "cell_type": "code",
   "execution_count": 26,
   "id": "6b5657e9",
   "metadata": {},
   "outputs": [],
   "source": [
    "\n",
    "\n",
    "def plot_results(model_name,results):\n",
    "    ratios = list(results.keys())\n",
    "    label0_values = [result[0] for result in results.values()]\n",
    "    label1_values = [result[1] for result in results.values()]\n",
    "\n",
    "    fig, (ax1, ax2) = plt.subplots(2, 1, figsize=(15, 12))\n",
    "\n",
    "    x = np.arange(len(ratios))\n",
    "    \n",
    "    # Plot for Label 0\n",
    "    ax1.bar(x, label0_values, width=0.6, color='skyblue', alpha=0.8)\n",
    "    ax1.set_ylabel('Values')\n",
    "    ax1.set_title('Label 0')\n",
    "    ax1.set_xticks(x)\n",
    "    ax1.set_xticklabels(ratios, rotation=45, ha='right')\n",
    "    ax1.axhline(y=1, color='r', linestyle='--', alpha=0.5)\n",
    "\n",
    "    # Plot for Label 1\n",
    "    ax2.bar(x, label1_values, width=0.6, color='lightgreen', alpha=0.8)\n",
    "    ax2.set_ylabel('Values')\n",
    "    ax2.set_title('Label 1')\n",
    "    ax2.set_xticks(x)\n",
    "    ax2.set_xticklabels(ratios, rotation=45, ha='right')\n",
    "    ax2.axhline(y=1, color='r', linestyle='--', alpha=0.5)\n",
    "\n",
    "    plt.tight_layout()\n",
    "    plt.savefig(f\"graphs/{model_name}.png\", dpi=300, bbox_inches='tight')\n",
    "    plt.show()\n"
   ]
  },
  {
   "cell_type": "code",
   "execution_count": 27,
   "id": "6c01678f",
   "metadata": {},
   "outputs": [
    {
     "name": "stdout",
     "output_type": "stream",
     "text": [
      "WW/WM = [1.0821312526113818, 0.8549680143020225]\n",
      "WW/BM = [0.9686314226849893, 0.935866994044744]\n",
      "WW/BW = [0.9472662775088229, 0.9696042220559438]\n",
      "====================\n",
      "WM/WW = [0.9241023189994891, 1.1696343995001712]\n",
      "WM/BM = [0.895114543958973, 1.0946222295915546]\n",
      "WM/BW = [0.8753709637559168, 1.1340824520172346]\n",
      "====================\n",
      "BM/WW = [1.0323844308375407, 1.0685279065971522]\n",
      "BM/WM = [1.1171754573187165, 0.9135571825296643]\n",
      "BM/BW = [0.977942956757542, 1.036049169621198]\n",
      "====================\n",
      "BW/WW = [1.0556693759117652, 1.031348644377399]\n",
      "BW/WM = [1.1423728240988742, 0.8817701025364275]\n",
      "BW/BM = [1.0225545294743879, 0.965205155625598]\n",
      "====================\n"
     ]
    },
    {
     "data": {
      "image/png": "[encoded data removed]",
      "text/plain": [
       "<Figure size 1500x1200 with 2 Axes>"
      ]
     },
     "metadata": {},
     "output_type": "display_data"
    }
   ],
   "source": [
    "result_a=divide_dict_values(sub_dict)\n",
    "\n",
    "plot_results(model_name,result_a)"
   ]
  },
  {
   "cell_type": "code",
   "execution_count": null,
   "id": "7f44b1fa",
   "metadata": {},
   "outputs": [],
   "source": []
  },
  {
   "cell_type": "code",
   "execution_count": null,
   "id": "b9e43744",
   "metadata": {},
   "outputs": [],
   "source": []
  },
  {
   "cell_type": "code",
   "execution_count": null,
   "id": "3c1198b9",
   "metadata": {},
   "outputs": [],
   "source": []
  },
  {
   "cell_type": "code",
   "execution_count": null,
   "id": "7488c2e0",
   "metadata": {},
   "outputs": [],
   "source": []
  },
  {
   "cell_type": "code",
   "execution_count": null,
   "id": "111cc293",
   "metadata": {},
   "outputs": [],
   "source": []
  },
  {
   "cell_type": "code",
   "execution_count": 17,
   "id": "770778a8",
   "metadata": {},
   "outputs": [],
   "source": [
    "# def divide_dict_values(sub_dict):\n",
    "#     # Iterate over each key-value pair in the dictionary\n",
    "#     for key1, value1 in sub_dict.items():\n",
    "#         for key2, value2 in sub_dict.items():\n",
    "#             if key1 != key2:  # Ensure we don't divide a value by itself\n",
    "#                 try:\n",
    "#                     # Perform element-wise division for the lists\n",
    "#                     result = [v1 / v2 if v2 != 0 else 'Division by zero error' for v1, v2 in zip(value1, value2)]\n",
    "#                     print(f'{key1}/{key2} = {result}')\n",
    "#                 except ZeroDivisionError:\n",
    "#                     print(f'{key1}/{key2} = Division by zero error')\n",
    "#         print(\"====================\")\n",
    "# print(\"Left side label:0 , Right side label:1 \\n\")\n",
    "# divide_dict_values(sub_dict)\n"
   ]
  },
  {
   "cell_type": "code",
   "execution_count": null,
   "id": "b387bb54",
   "metadata": {},
   "outputs": [],
   "source": []
  },
  {
   "cell_type": "code",
   "execution_count": null,
   "id": "c542092e",
   "metadata": {},
   "outputs": [],
   "source": []
  },
  {
   "cell_type": "code",
   "execution_count": null,
   "id": "7773be64",
   "metadata": {},
   "outputs": [],
   "source": []
  },
  {
   "cell_type": "code",
   "execution_count": null,
   "id": "73386b08",
   "metadata": {},
   "outputs": [],
   "source": []
  },
  {
   "cell_type": "code",
   "execution_count": null,
   "id": "82ac142c",
   "metadata": {},
   "outputs": [],
   "source": []
  },
  {
   "cell_type": "code",
   "execution_count": null,
   "id": "909f5c39",
   "metadata": {},
   "outputs": [],
   "source": []
  },
  {
   "cell_type": "code",
   "execution_count": null,
   "id": "67f48c46",
   "metadata": {},
   "outputs": [],
   "source": []
  },
  {
   "cell_type": "code",
   "execution_count": null,
   "id": "4255d8d4",
   "metadata": {},
   "outputs": [],
   "source": []
  },
  {
   "cell_type": "code",
   "execution_count": null,
   "id": "76125d8b",
   "metadata": {},
   "outputs": [],
   "source": []
  },
  {
   "cell_type": "code",
   "execution_count": null,
   "id": "dfad5b43",
   "metadata": {},
   "outputs": [],
   "source": []
  },
  {
   "cell_type": "code",
   "execution_count": null,
   "id": "9146a54a",
   "metadata": {},
   "outputs": [],
   "source": []
  },
  {
   "cell_type": "code",
   "execution_count": null,
   "id": "cc8b8fc2",
   "metadata": {},
   "outputs": [],
   "source": []
  },
  {
   "cell_type": "code",
   "execution_count": null,
   "id": "987185fc",
   "metadata": {},
   "outputs": [],
   "source": []
  },
  {
   "cell_type": "code",
   "execution_count": null,
   "id": "70856dcc",
   "metadata": {},
   "outputs": [],
   "source": []
  },
  {
   "cell_type": "code",
   "execution_count": null,
   "id": "3388dc07-f520-420b-968c-77c5ac2b691c",
   "metadata": {},
   "outputs": [],
   "source": []
  },
  {
   "cell_type": "code",
   "execution_count": null,
   "id": "a1e64136-d372-471d-828b-7bac2cee2477",
   "metadata": {},
   "outputs": [],
   "source": []
  },
  {
   "cell_type": "code",
   "execution_count": null,
   "id": "0a802d96-81c2-4824-87ca-879beb395b67",
   "metadata": {},
   "outputs": [],
   "source": []
  },
  {
   "cell_type": "code",
   "execution_count": null,
   "id": "710f2d84-070f-49b2-880a-503f427195fa",
   "metadata": {},
   "outputs": [],
   "source": []
  },
  {
   "cell_type": "code",
   "execution_count": null,
   "id": "e60e8a5c-601b-4bff-82d5-c3cef87bfae9",
   "metadata": {},
   "outputs": [],
   "source": []
  },
  {
   "cell_type": "code",
   "execution_count": null,
   "id": "e46a3913-decd-4faa-9571-038f4c6392b3",
   "metadata": {},
   "outputs": [],
   "source": []
  },
  {
   "cell_type": "code",
   "execution_count": null,
   "id": "b0fa1817-8f30-4fa9-966c-ff00755baf55",
   "metadata": {},
   "outputs": [],
   "source": []
  },
  {
   "cell_type": "code",
   "execution_count": null,
   "id": "c4db5b2e-2b75-41aa-bc9e-a2ef818c6aa9",
   "metadata": {},
   "outputs": [],
   "source": []
  }
 ],
 "metadata": {
  "kernelspec": {
   "display_name": "Python 3 (ipykernel)",
   "language": "python",
   "name": "python3"
  },
  "language_info": {
   "codemirror_mode": {
    "name": "ipython",
    "version": 3
   },
   "file_extension": ".py",
   "mimetype": "text/x-python",
   "name": "python",
   "nbconvert_exporter": "python",
   "pygments_lexer": "ipython3",
   "version": "3.11.9"
  }
 },
 "nbformat": 4,
 "nbformat_minor": 5
}
