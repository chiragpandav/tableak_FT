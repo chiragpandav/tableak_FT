{
 "cells": [
  {
   "cell_type": "code",
   "execution_count": 6,
   "id": "68b72042-2c27-401e-94f4-b91c53410070",
   "metadata": {},
   "outputs": [],
   "source": [
    "from sklearn.metrics import precision_score, accuracy_score"
   ]
  },
  {
   "cell_type": "code",
   "execution_count": 7,
   "id": "09de13cc-d7fd-4a66-8d79-9ee74bad712d",
   "metadata": {},
   "outputs": [
    {
     "data": {
      "text/plain": [
       "93"
      ]
     },
     "execution_count": 7,
     "metadata": {},
     "output_type": "execute_result"
    }
   ],
   "source": [
    "#Ex3 Small YOLO\n",
    "# strip :  29/34 passed  5 image not pass\n",
    "# no strip:  58/59 passed  1 image not pass\n",
    "\n",
    "TP=29\n",
    "FP=1\n",
    "\n",
    "TN=58\n",
    "FN=5\n",
    "\n",
    "total= TP+FP+TN+FN\n",
    "total"
   ]
  },
  {
   "cell_type": "code",
   "execution_count": 8,
   "id": "716ccef9-708a-45cf-8bae-7f011bef56dc",
   "metadata": {},
   "outputs": [
    {
     "data": {
      "text/plain": [
       "(0.9666666666666667, 0.9354838709677419, 0.8529411764705882, 0.90625)"
      ]
     },
     "execution_count": 8,
     "metadata": {},
     "output_type": "execute_result"
    }
   ],
   "source": [
    "precision = TP / (TP + FP)\n",
    "accuracy = (TP + TN) / (TP + TN + FP + FN)\n",
    "recall = TP / (TP + FN)\n",
    "f1_score_manual = 2 * (precision * recall) / (precision + recall)\n",
    "\n",
    "\n",
    "# print(\"Recall (manual calculation):\", recall)\n",
    "\n",
    "precision, accuracy, recall,f1_score_manual"
   ]
  },
  {
   "cell_type": "code",
   "execution_count": 9,
   "id": "0539ae65-b014-44fd-967a-cb76e4205fe4",
   "metadata": {},
   "outputs": [
    {
     "data": {
      "text/plain": [
       "93"
      ]
     },
     "execution_count": 9,
     "metadata": {},
     "output_type": "execute_result"
    }
   ],
   "source": [
    "#Ex4 Large YOLO\n",
    "\n",
    "\n",
    "# strip : 5/34 passed  29 image not pass\n",
    "# no strip:  59/59 passed  0 image not pass\n",
    "\n",
    "TP=5\n",
    "FP=0\n",
    "\n",
    "TN=59\n",
    "FN=29\n",
    "\n",
    "total= TP+FP+TN+FN\n",
    "total"
   ]
  },
  {
   "cell_type": "code",
   "execution_count": null,
   "id": "7c864dd5-d938-4920-bbcf-fe07b55efbc3",
   "metadata": {},
   "outputs": [],
   "source": []
  },
  {
   "cell_type": "code",
   "execution_count": 10,
   "id": "6ac79971-e08b-4f42-a5b4-c0470d24892f",
   "metadata": {},
   "outputs": [
    {
     "data": {
      "text/plain": [
       "(1.0, 0.6881720430107527, 0.14705882352941177, 0.25641025641025644)"
      ]
     },
     "execution_count": 10,
     "metadata": {},
     "output_type": "execute_result"
    }
   ],
   "source": [
    "precision = TP / (TP + FP)\n",
    "accuracy = (TP + TN) / (TP + TN + FP + FN)\n",
    "recall = TP / (TP + FN)\n",
    "f1_score_manual = 2 * (precision * recall) / (precision + recall)\n",
    "\n",
    "# print(\"Recall (manual calculation):\", recall)\n",
    "\n",
    "precision, accuracy, recall,f1_score_manual"
   ]
  },
  {
   "cell_type": "code",
   "execution_count": null,
   "id": "3c728fdf-27e3-4347-8944-14ec219d20fd",
   "metadata": {},
   "outputs": [],
   "source": []
  },
  {
   "cell_type": "code",
   "execution_count": null,
   "id": "04f26a09-7851-4c49-997c-e52961eff7ee",
   "metadata": {},
   "outputs": [],
   "source": []
  },
  {
   "cell_type": "code",
   "execution_count": 11,
   "id": "d35f0e0a-38b7-48a0-9c26-da28af85f1be",
   "metadata": {},
   "outputs": [
    {
     "data": {
      "text/plain": [
       "1335"
      ]
     },
     "execution_count": 11,
     "metadata": {},
     "output_type": "execute_result"
    }
   ],
   "source": [
    "#Canny method\n",
    "\n",
    "# No_strip : 720/730 passed | 10 img not pass\n",
    "# strip: 571/605 passed | 34 img  not passed\n",
    "\n",
    "TP=571\n",
    "FP=10\n",
    "\n",
    "TN=720\n",
    "FN=34\n",
    "\n",
    "total= TP+FP+TN+FN\n",
    "total"
   ]
  },
  {
   "cell_type": "code",
   "execution_count": null,
   "id": "0a26d2d0-003b-41c5-9355-91f36b3961ab",
   "metadata": {},
   "outputs": [],
   "source": []
  },
  {
   "cell_type": "code",
   "execution_count": 12,
   "id": "7c9f9755-6cae-4ee0-b7bb-4c1d6975b991",
   "metadata": {},
   "outputs": [
    {
     "data": {
      "text/plain": [
       "(0.9827882960413081, 0.9670411985018726, 0.943801652892562, 0.9629005059021922)"
      ]
     },
     "execution_count": 12,
     "metadata": {},
     "output_type": "execute_result"
    }
   ],
   "source": [
    "precision = TP / (TP + FP)\n",
    "accuracy = (TP + TN) / (TP + TN + FP + FN)\n",
    "recall = TP / (TP + FN)\n",
    "f1_score_manual = 2 * (precision * recall) / (precision + recall)\n",
    "\n",
    "# print(\"Recall (manual calculation):\", recall)\n",
    "\n",
    "precision, accuracy, recall,f1_score_manual"
   ]
  },
  {
   "cell_type": "code",
   "execution_count": null,
   "id": "bc7aa68c-ffee-4046-8e0b-ba2bc9cf631c",
   "metadata": {},
   "outputs": [],
   "source": []
  }
 ],
 "metadata": {
  "kernelspec": {
   "display_name": "Python 3 (ipykernel)",
   "language": "python",
   "name": "python3"
  },
  "language_info": {
   "codemirror_mode": {
    "name": "ipython",
    "version": 3
   },
   "file_extension": ".py",
   "mimetype": "text/x-python",
   "name": "python",
   "nbconvert_exporter": "python",
   "pygments_lexer": "ipython3",
   "version": "3.8.18"
  }
 },
 "nbformat": 4,
 "nbformat_minor": 5
}
