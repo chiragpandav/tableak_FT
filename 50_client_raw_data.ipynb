{
 "cells": [
  {
   "cell_type": "code",
   "execution_count": 9,
   "id": "1c6ff739",
   "metadata": {},
   "outputs": [],
   "source": [
    "# !pip install folktables"
   ]
  },
  {
   "cell_type": "code",
   "execution_count": 1,
   "id": "f5275cc3-c94b-4735-afe0-a1c9da7c1592",
   "metadata": {},
   "outputs": [],
   "source": [
    "from folktables import ACSDataSource, ACSEmployment,ACSIncome\n",
    "import numpy as np\n",
    "from sklearn.model_selection import train_test_split\n",
    "import os\n",
    "import pandas as pd"
   ]
  },
  {
   "cell_type": "code",
   "execution_count": 2,
   "id": "9c4e9c88-5f23-4fe5-b432-cffbe9d2d6fc",
   "metadata": {},
   "outputs": [],
   "source": [
    "data_source = ACSDataSource(survey_year='2018', horizon='1-Year', survey='person')\n",
    "# acs_data = data_source.get_data(states=[\"AL\", \"AK\", \"AZ\", \"AR\", \"CA\"], download=True)\n",
    "# acs_data = data_source.get_data(download=True)"
   ]
  },
  {
   "cell_type": "code",
   "execution_count": null,
   "id": "01707a76",
   "metadata": {},
   "outputs": [],
   "source": []
  },
  {
   "cell_type": "code",
   "execution_count": null,
   "id": "c4023c5f-7bcf-4078-82b2-38cfa274e02b",
   "metadata": {},
   "outputs": [],
   "source": []
  },
  {
   "cell_type": "code",
   "execution_count": 3,
   "id": "7e71745b-75b4-41ad-84a6-f5eaa6f839fe",
   "metadata": {},
   "outputs": [],
   "source": [
    "# state_codes = [\"AL\", \"AK\", \"AZ\", \"AR\", \"CA\", \"CO\", \"CT\", \"DE\", \"FL\", \"GA\",\n",
    "#                \"HI\", \"ID\", \"IL\", \"IN\", \"IA\", \"KS\", \"KY\", \"LA\", \"ME\", \"MD\",\n",
    "#                \"MA\", \"MI\", \"MN\", \"MS\", \"MO\", \"MT\", \"NE\", \"NV\", \"NH\", \"NJ\",\n",
    "#                \"NM\", \"NY\", \"NC\", \"ND\", \"OH\", \"OK\", \"OR\", \"PA\", \"RI\", \"SC\",\n",
    "#                \"SD\", \"TN\", \"TX\", \"UT\", \"VT\", \"VA\", \"WA\", \"WV\", \"WI\", \"WY\"]\n",
    "\n",
    "state_codes = [\"AL\", \"AK\", \"AZ\", \"NY\", \"CA\"]\n",
    "dfs = {}\n",
    "for state_code in state_codes:\n",
    "    acs_data = data_source.get_data(states=[state_code],download=True)\n",
    "    features, label, group = ACSIncome.df_to_pandas(acs_data)\n",
    "    dfs[state_code] = (features, label)\n"
   ]
  },
  {
   "cell_type": "code",
   "execution_count": null,
   "id": "57d8605a-9d9d-41f9-8d99-c6dd838f73cd",
   "metadata": {},
   "outputs": [],
   "source": []
  },
  {
   "cell_type": "code",
   "execution_count": 4,
   "id": "19e92498-3e0d-4ba9-ab6e-41337a43db5f",
   "metadata": {},
   "outputs": [
    {
     "name": "stdout",
     "output_type": "stream",
     "text": [
      "State: AL, Features Length: 22268, Label Length: 22268\n",
      "State: AK, Features Length: 3546, Label Length: 3546\n",
      "State: AZ, Features Length: 33277, Label Length: 33277\n",
      "State: NY, Features Length: 103021, Label Length: 103021\n",
      "State: CA, Features Length: 195665, Label Length: 195665\n"
     ]
    }
   ],
   "source": [
    "all_len=[]\n",
    "for state_code, (features, label) in dfs.items():\n",
    "    all_len.append(len(label))\n",
    "    print(f\"State: {state_code}, Features Length: {len(features)}, Label Length: {len(label)}\")"
   ]
  },
  {
   "cell_type": "code",
   "execution_count": 5,
   "id": "055bc49d-4b43-43e9-b4c5-f9bf795dd6ac",
   "metadata": {},
   "outputs": [
    {
     "name": "stdout",
     "output_type": "stream",
     "text": [
      "State: AL, df Length: 22268\n",
      "State: AK, df Length: 3546\n",
      "State: AZ, df Length: 33277\n",
      "State: NY, df Length: 103021\n",
      "State: CA, df Length: 195665\n"
     ]
    }
   ],
   "source": [
    "merge_dfs={}\n",
    "\n",
    "for state_code, (features, label) in dfs.items():    \n",
    "    merge_df = pd.concat([features, label], axis=1)\n",
    "    merge_df = merge_df.dropna()\n",
    "    merge_df['PINCP'] = merge_df['PINCP'].replace({True: '>50K', False: '<=50K'})\n",
    "    merge_dfs[state_code] = merge_df\n",
    "    \n",
    "for state_code, df in merge_dfs.items():\n",
    "    print(f\"State: {state_code}, df Length: {len(df)}\")"
   ]
  },
  {
   "cell_type": "code",
   "execution_count": null,
   "id": "2238996f-c5eb-45f9-aa73-696c4af4b85c",
   "metadata": {},
   "outputs": [],
   "source": []
  },
  {
   "cell_type": "code",
   "execution_count": 6,
   "id": "345e0f30-f1bc-4a98-9f5a-c5ce2ceef8c3",
   "metadata": {},
   "outputs": [],
   "source": [
    "import pickle\n",
    "\n",
    "# Save the dictionary to a file\n",
    "with open('dfs.pickle', 'wb') as f:\n",
    "    pickle.dump(merge_dfs, f)"
   ]
  },
  {
   "cell_type": "code",
   "execution_count": 7,
   "id": "01e78f35-2ce1-482d-84b6-864887a4b649",
   "metadata": {},
   "outputs": [],
   "source": [
    "with open('dfs.pickle', 'rb') as f:\n",
    "    dfs_loaded = pickle.load(f)"
   ]
  },
  {
   "cell_type": "code",
   "execution_count": 8,
   "id": "7a09286a-9238-4621-aaaf-ee6e5a8ae7e0",
   "metadata": {},
   "outputs": [
    {
     "name": "stdout",
     "output_type": "stream",
     "text": [
      "   AGEP  COW  SCHL  MAR    OCCP  POBP  RELP  WKHP  SEX  RAC1P  PINCP\n",
      "0  18.0  1.0  18.0  5.0  4720.0  13.0  17.0  21.0  2.0    2.0  <=50K\n",
      "1  53.0  5.0  17.0  5.0  3605.0  18.0  16.0  40.0  1.0    1.0  <=50K\n",
      "2  41.0  1.0  16.0  5.0  7330.0   1.0  17.0  40.0  1.0    1.0  <=50K\n",
      "3  18.0  6.0  18.0  5.0  2722.0   1.0  17.0   2.0  2.0    1.0  <=50K\n",
      "4  21.0  5.0  19.0  5.0  3870.0  12.0  17.0  50.0  1.0    1.0  <=50K\n",
      "State: AL, df Length: 22268\n",
      "   AGEP  COW  SCHL  MAR    OCCP  POBP  RELP  WKHP  SEX  RAC1P  PINCP\n",
      "0  19.0  5.0  16.0  5.0  5120.0  48.0  17.0  40.0  2.0    5.0  <=50K\n",
      "1  23.0  1.0  18.0  5.0  9130.0   2.0  17.0  77.0  1.0    1.0  <=50K\n",
      "2  19.0  1.0  19.0  5.0  4521.0   2.0  17.0  70.0  1.0    6.0  <=50K\n",
      "3  33.0  3.0  17.0  3.0  8140.0   2.0  16.0  40.0  1.0    1.0  <=50K\n",
      "4  62.0  1.0  19.0  1.0  1050.0  29.0  17.0  84.0  1.0    9.0   >50K\n",
      "State: AK, df Length: 3546\n",
      "   AGEP  COW  SCHL  MAR    OCCP   POBP  RELP  WKHP  SEX  RAC1P  PINCP\n",
      "0  19.0  1.0  16.0  5.0  4150.0    4.0  17.0  20.0  2.0    1.0  <=50K\n",
      "1  30.0  4.0  19.0  1.0  7840.0    4.0  16.0  40.0  1.0    1.0  <=50K\n",
      "2  45.0  6.0  19.0  4.0  6355.0  303.0  17.0  40.0  1.0    1.0  <=50K\n",
      "3  21.0  4.0  16.0  5.0  8140.0    6.0  17.0  40.0  1.0    8.0   >50K\n",
      "4  20.0  4.0  16.0  5.0  2016.0    4.0  17.0  10.0  2.0    1.0  <=50K\n",
      "State: AZ, df Length: 33277\n",
      "   AGEP  COW  SCHL  MAR    OCCP   POBP  RELP  WKHP  SEX  RAC1P  PINCP\n",
      "0  26.0  2.0  21.0  5.0  5110.0  109.0  17.0  50.0  2.0    1.0  <=50K\n",
      "1  21.0  1.0  20.0  5.0  4110.0   36.0  17.0   2.0  1.0    1.0  <=50K\n",
      "2  19.0  1.0  19.0  5.0  2723.0   36.0  17.0   4.0  2.0    1.0  <=50K\n",
      "3  22.0  1.0  21.0  5.0  5120.0  207.0  17.0  50.0  2.0    6.0  <=50K\n",
      "4  19.0  2.0  16.0  5.0  4622.0   22.0  17.0  20.0  1.0    9.0  <=50K\n",
      "State: NY, df Length: 103021\n",
      "   AGEP  COW  SCHL  MAR    OCCP  POBP  RELP  WKHP  SEX  RAC1P  PINCP\n",
      "0  30.0  6.0  14.0  1.0  9610.0   6.0  16.0  40.0  1.0    8.0  <=50K\n",
      "1  21.0  4.0  16.0  5.0  1970.0   6.0  17.0  20.0  1.0    1.0  <=50K\n",
      "2  65.0  2.0  22.0  5.0  2040.0   6.0  17.0   8.0  1.0    1.0  <=50K\n",
      "3  33.0  1.0  14.0  3.0  9610.0  36.0  16.0  40.0  1.0    1.0  <=50K\n",
      "4  18.0  2.0  19.0  5.0  1021.0   6.0  17.0  18.0  2.0    1.0  <=50K\n",
      "State: CA, df Length: 195665\n"
     ]
    }
   ],
   "source": [
    "for state_code, df in dfs_loaded.items():\n",
    "    print(df.head())\n",
    "    print(f\"State: {state_code}, df Length: {len(df)}\")"
   ]
  },
  {
   "cell_type": "code",
   "execution_count": null,
   "id": "959b43df-eeba-4511-aa1b-63ca13d3e641",
   "metadata": {},
   "outputs": [],
   "source": []
  },
  {
   "cell_type": "code",
   "execution_count": null,
   "id": "f9626be7-4eea-4c4b-b8a7-3e5b6da8512a",
   "metadata": {},
   "outputs": [],
   "source": []
  },
  {
   "cell_type": "code",
   "execution_count": 41,
   "id": "b7181252-c9fd-42c0-9572-b4df6c423a58",
   "metadata": {},
   "outputs": [],
   "source": [
    "# for state_code, df in dfs_loaded.items():\n",
    "#     df_temp=dfs_loaded[state_code].reset_index(drop=True)\n",
    "#     train_data, test_data = train_test_split(df_temp, test_size=0.2, random_state=42)\n",
    "#     train_data.to_csv(f'50_clients_data/raw_data/{state_code}.data', header=False, index=False)\n",
    "    \n",
    "#     test_data['PINCP'] = test_data['PINCP'].astype(str) + '.'\n",
    "\n",
    "#     test_data.to_csv(f'50_clients_data/raw_data/{state_code}.test', header=False, index=False)\n",
    "    \n",
    "#     df_temp.to_csv(f'50_clients_data/raw_data/{state_code}.csv', header=False, index=False)"
   ]
  },
  {
   "cell_type": "markdown",
   "id": "670943e4",
   "metadata": {},
   "source": [
    "# Torch2 -- Group and Subgroup"
   ]
  },
  {
   "cell_type": "code",
   "execution_count": 42,
   "id": "6e46de97",
   "metadata": {},
   "outputs": [],
   "source": [
    "merge_df=merge_dfs[\"CA\"].copy()"
   ]
  },
  {
   "cell_type": "code",
   "execution_count": 9,
   "id": "ab2bcfec-1bc9-4006-967c-319c38674046",
   "metadata": {},
   "outputs": [
    {
     "data": {
      "text/plain": [
       "(64793, 4204, 56213, 4353)"
      ]
     },
     "execution_count": 9,
     "metadata": {},
     "output_type": "execute_result"
    }
   ],
   "source": [
    "# # filter the dataframe for each combination\n",
    "\n",
    "#White Men\n",
    "WM = merge_df.loc[(merge_df['SEX'] == 1) & (merge_df['RAC1P'] == 1)]\n",
    "#Black Men\n",
    "BM = merge_df.loc[(merge_df['SEX'] == 1) & (merge_df['RAC1P'] == 2)]\n",
    "#white Women\n",
    "WW = merge_df.loc[(merge_df['SEX'] == 2) & (merge_df['RAC1P'] == 1)]\n",
    "#Black Women\n",
    "BW = merge_df.loc[(merge_df['SEX'] == 2) & (merge_df['RAC1P'] == 2)]\n",
    "\n",
    "len(WM),len(BM),len(WW),len(BW)"
   ]
  },
  {
   "cell_type": "code",
   "execution_count": 10,
   "id": "56af084a",
   "metadata": {},
   "outputs": [],
   "source": [
    "# =====Training=============\n",
    "WW[:50000].to_csv(f'50_clients_data/client_subG_splits/WW.data', header=False, index=False)\n",
    "WM[:60000].to_csv(f'50_clients_data/client_subG_splits/WM.data', header=False, index=False)\n",
    "BW[:5000].to_csv(f'50_clients_data/client_subG_splits/BW.data', header=False, index=False)\n",
    "BM[:4000].to_csv(f'50_clients_data/client_subG_splits/BM.data', header=False, index=False)\n",
    "\n",
    "\n",
    "# =====Testing=============\n",
    "\n",
    "\n",
    "WW.loc[50000:, 'PINCP'] = WW.loc[50000:, 'PINCP'].astype(str) + '.'\n",
    "WW[50000:].to_csv(f'50_clients_data/client_subG_splits/WW.test', header=False, index=False)\n",
    "\n",
    "WM.loc[60000:, 'PINCP'] = WM.loc[60000:, 'PINCP'].astype(str) + '.'\n",
    "WM[60000:].to_csv(f'50_clients_data/client_subG_splits/WM.test', header=False, index=False)\n",
    "\n",
    "BW.loc[5000:, 'PINCP'] = BW.loc[5000:, 'PINCP'].astype(str) + '.'\n",
    "BW[5000:].to_csv(f'50_clients_data/client_subG_splits/BW.test', header=False, index=False)\n",
    "\n",
    "BM.loc[4000:, 'PINCP'] = BM.loc[4000:, 'PINCP'].astype(str) + '.'\n",
    "BM[4000:].to_csv(f'50_clients_data/client_subG_splits/BM.test', header=False, index=False)"
   ]
  },
  {
   "cell_type": "code",
   "execution_count": null,
   "id": "72c00afa",
   "metadata": {},
   "outputs": [],
   "source": []
  },
  {
   "cell_type": "markdown",
   "id": "fd8d1735",
   "metadata": {},
   "source": [
    "#-------------- Group-------------"
   ]
  },
  {
   "cell_type": "code",
   "execution_count": 11,
   "id": "d2f2f99b",
   "metadata": {},
   "outputs": [
    {
     "data": {
      "text/plain": [
       "103021"
      ]
     },
     "execution_count": 11,
     "metadata": {},
     "output_type": "execute_result"
    }
   ],
   "source": [
    "merge_df=merge_dfs[\"NY\"].copy()\n",
    "len(merge_df)"
   ]
  },
  {
   "cell_type": "code",
   "execution_count": 12,
   "id": "98b1deca",
   "metadata": {},
   "outputs": [
    {
     "data": {
      "text/plain": [
       "(52178, 50843, 73665, 11647)"
      ]
     },
     "execution_count": 12,
     "metadata": {},
     "output_type": "execute_result"
    }
   ],
   "source": [
    "men = merge_df.loc[(merge_df['SEX'] == 1)]\n",
    "women = merge_df.loc[(merge_df['SEX'] == 2)]\n",
    "white = merge_df.loc[(merge_df['RAC1P'] == 1)]\n",
    "black = merge_df.loc[(merge_df['RAC1P'] == 2)]\n",
    "\n",
    "len(men),len(women),len(white),len(black)"
   ]
  },
  {
   "cell_type": "code",
   "execution_count": 13,
   "id": "4d58e146",
   "metadata": {},
   "outputs": [],
   "source": [
    "# =====Training=============\n",
    "men[:40000].to_csv(f'50_clients_data/client_subG_splits/men.data', header=False, index=False)\n",
    "women[:40000].to_csv(f'50_clients_data/client_subG_splits/men.data', header=False, index=False)\n",
    "white[:40000].to_csv(f'50_clients_data/client_subG_splits/white.data', header=False, index=False)\n",
    "black[:10000].to_csv(f'50_clients_data/client_subG_splits/black.data', header=False, index=False)\n",
    "\n",
    "\n",
    "# =====Testing=============\n",
    "\n",
    "\n",
    "men.loc[40000:, 'PINCP'] = men.loc[40000:, 'PINCP'].astype(str) + '.'\n",
    "men[40000:].to_csv(f'50_clients_data/client_subG_splits/men.test', header=False, index=False)\n",
    "\n",
    "women.loc[40000:, 'PINCP'] = women.loc[40000:, 'PINCP'].astype(str) + '.'\n",
    "women[40000:].to_csv(f'50_clients_data/client_subG_splits/women.test', header=False, index=False)\n",
    "\n",
    "white.loc[40000:, 'PINCP'] = white.loc[40000:, 'PINCP'].astype(str) + '.'\n",
    "white[40000:].to_csv(f'50_clients_data/client_subG_splits/white.test', header=False, index=False)\n",
    "\n",
    "black.loc[10000:, 'PINCP'] = black.loc[10000:, 'PINCP'].astype(str) + '.'\n",
    "black[10000:].to_csv(f'50_clients_data/client_subG_splits/black.test', header=False, index=False)"
   ]
  },
  {
   "cell_type": "code",
   "execution_count": null,
   "id": "b7390e4b",
   "metadata": {},
   "outputs": [],
   "source": []
  },
  {
   "cell_type": "code",
   "execution_count": null,
   "id": "1f478457",
   "metadata": {},
   "outputs": [],
   "source": []
  },
  {
   "cell_type": "code",
   "execution_count": null,
   "id": "9b3b0b89",
   "metadata": {},
   "outputs": [],
   "source": []
  },
  {
   "cell_type": "code",
   "execution_count": null,
   "id": "83c41d4f",
   "metadata": {},
   "outputs": [],
   "source": []
  },
  {
   "cell_type": "code",
   "execution_count": null,
   "metadata": {},
   "outputs": [],
   "source": []
  },
  {
   "cell_type": "markdown",
   "id": "8c1376b9-a9fa-4fba-a86c-0ff7cdb31ac3",
   "metadata": {},
   "source": [
    "# Take random 100 data points from Clients"
   ]
  },
  {
   "cell_type": "code",
   "execution_count": 13,
   "id": "0fb4f2c3-8925-4eca-b02c-0fc587d0c7ab",
   "metadata": {},
   "outputs": [],
   "source": [
    "import os"
   ]
  },
  {
   "cell_type": "code",
   "execution_count": 14,
   "id": "53278426-c2de-435c-9412-30ed7b824e7c",
   "metadata": {},
   "outputs": [],
   "source": [
    "# Training Ground Truth"
   ]
  },
  {
   "cell_type": "code",
   "execution_count": 15,
   "id": "6e457c06-dd39-4322-8a15-96598d18ff17",
   "metadata": {},
   "outputs": [],
   "source": [
    "folder_path = '50_clients_data/raw_data/'\n",
    "for file_name in os.listdir(folder_path):\n",
    "    if file_name.endswith('.data'):\n",
    "        df = pd.read_csv(os.path.join(folder_path, file_name), header=None)\n",
    "        temp_df=df.sample(n=100)\n",
    "        base_name = os.path.splitext(file_name)[0]\n",
    "        temp_df.to_csv(f'50_clients_data/client_raw_data_100_sample/{base_name}_100.data', header=False, index=False)\n"
   ]
  },
  {
   "cell_type": "code",
   "execution_count": 16,
   "id": "b01d8752-eb85-433e-83fc-267827a536d6",
   "metadata": {},
   "outputs": [],
   "source": [
    "# Testing"
   ]
  },
  {
   "cell_type": "code",
   "execution_count": 17,
   "id": "a04ac7ac-48c0-4ca2-97b2-1e4d749cec1d",
   "metadata": {},
   "outputs": [],
   "source": [
    "folder_path = '50_clients_data/raw_data/'\n",
    "for file_name in os.listdir(folder_path):\n",
    "    if file_name.endswith('.test'):\n",
    "        df = pd.read_csv(os.path.join(folder_path, file_name), header=None)\n",
    "        temp_df=df.sample(n=100)\n",
    "        base_name = os.path.splitext(file_name)[0]\n",
    "        temp_df.to_csv(f'50_clients_data/client_raw_data_100_test/{base_name}_100.test', header=False, index=False)"
   ]
  },
  {
   "cell_type": "code",
   "execution_count": null,
   "id": "03f5704f-fbae-4c6a-8483-e116235b6b04",
   "metadata": {},
   "outputs": [],
   "source": []
  },
  {
   "cell_type": "code",
   "execution_count": null,
   "id": "3203b808-683a-4a75-8677-0b95094eb45e",
   "metadata": {},
   "outputs": [],
   "source": []
  },
  {
   "cell_type": "code",
   "execution_count": 19,
   "id": "462240da-8b3b-4480-806a-3d944c123056",
   "metadata": {},
   "outputs": [],
   "source": [
    "# for state_code, df in dfs_loaded.items():\n",
    "#     df_temp=dfs_loaded[state_code].reset_index(drop=True)\n",
    "#     train_data, test_data = train_test_split(df_temp, test_size=0.2, random_state=42)\n",
    "    \n",
    "#     train_data.to_csv(f'50_clients_data/client_raw_data_100_sample/{state_code}_100.data', header=False, index=False)\n",
    "\n",
    "# sample_100_AK.to_csv(f'50_clients_data/raw_data/AK_100.data', header=False, index=False)"
   ]
  },
  {
   "cell_type": "code",
   "execution_count": null,
   "id": "baf4ff9e-8740-4e77-9f91-469535298d49",
   "metadata": {},
   "outputs": [],
   "source": []
  },
  {
   "cell_type": "code",
   "execution_count": 21,
   "id": "a93aad86-252d-4a8c-a4f6-661ca48862e7",
   "metadata": {},
   "outputs": [],
   "source": [
    "# for state_code, (features, label) in dfs.items():\n",
    "#     # take 30%\n",
    "#     num_rows_to_keep = int(len(features) * 0.3) \n",
    "#     random_indices = np.random.choice(len(features), num_rows_to_keep, replace=False)\n",
    "#     reduced_features = features.iloc[random_indices]\n",
    "#     reduced_label = label.iloc[random_indices]\n",
    "#     dfs[state_code] = (reduced_features, reduced_label)\n",
    "\n",
    "# for state_code, (reduced_features, reduced_label) in dfs.items():\n",
    "#     print(f\"State: {state_code}, Reduced Features Length: {len(reduced_features)}, Reduced Label Length: {len(reduced_label)}\")"
   ]
  },
  {
   "cell_type": "code",
   "execution_count": 16,
   "id": "a55148d4-3246-4808-ad56-98a288027ce1",
   "metadata": {},
   "outputs": [],
   "source": [
    "import pickle\n",
    "\n",
    "# Save the dictionary to a file\n",
    "with open('dfs.pickle', 'wb') as f:\n",
    "    pickle.dump(merge_dfs, f)"
   ]
  },
  {
   "cell_type": "code",
   "execution_count": 17,
   "id": "c36daf13-b0c9-443d-893f-48b468e56723",
   "metadata": {},
   "outputs": [],
   "source": [
    "with open('dfs.pickle', 'rb') as f:\n",
    "    dfs_loaded = pickle.load(f)"
   ]
  },
  {
   "cell_type": "code",
   "execution_count": 18,
   "id": "869ef307-92e7-481b-98a0-bb2f0f8e4a81",
   "metadata": {},
   "outputs": [
    {
     "name": "stdout",
     "output_type": "stream",
     "text": [
      "State: AL, df Length: 22268\n"
     ]
    }
   ],
   "source": [
    "for state_code, df in dfs_loaded.items():\n",
    "    print(f\"State: {state_code}, df Length: {len(df)}\")"
   ]
  },
  {
   "cell_type": "code",
   "execution_count": 20,
   "id": "a7a2d099-4666-42e0-8243-db5888c33c3a",
   "metadata": {},
   "outputs": [
    {
     "data": {
      "text/html": [
       "<div>\n",
       "<style scoped>\n",
       "    .dataframe tbody tr th:only-of-type {\n",
       "        vertical-align: middle;\n",
       "    }\n",
       "\n",
       "    .dataframe tbody tr th {\n",
       "        vertical-align: top;\n",
       "    }\n",
       "\n",
       "    .dataframe thead th {\n",
       "        text-align: right;\n",
       "    }\n",
       "</style>\n",
       "<table border=\"1\" class=\"dataframe\">\n",
       "  <thead>\n",
       "    <tr style=\"text-align: right;\">\n",
       "      <th></th>\n",
       "      <th>AGEP</th>\n",
       "      <th>COW</th>\n",
       "      <th>SCHL</th>\n",
       "      <th>MAR</th>\n",
       "      <th>OCCP</th>\n",
       "      <th>POBP</th>\n",
       "      <th>RELP</th>\n",
       "      <th>WKHP</th>\n",
       "      <th>SEX</th>\n",
       "      <th>RAC1P</th>\n",
       "      <th>PINCP</th>\n",
       "    </tr>\n",
       "  </thead>\n",
       "  <tbody>\n",
       "    <tr>\n",
       "      <th>0</th>\n",
       "      <td>18.0</td>\n",
       "      <td>1.0</td>\n",
       "      <td>18.0</td>\n",
       "      <td>5.0</td>\n",
       "      <td>4720.0</td>\n",
       "      <td>13.0</td>\n",
       "      <td>17.0</td>\n",
       "      <td>21.0</td>\n",
       "      <td>2.0</td>\n",
       "      <td>2.0</td>\n",
       "      <td>&lt;=50K</td>\n",
       "    </tr>\n",
       "    <tr>\n",
       "      <th>1</th>\n",
       "      <td>53.0</td>\n",
       "      <td>5.0</td>\n",
       "      <td>17.0</td>\n",
       "      <td>5.0</td>\n",
       "      <td>3605.0</td>\n",
       "      <td>18.0</td>\n",
       "      <td>16.0</td>\n",
       "      <td>40.0</td>\n",
       "      <td>1.0</td>\n",
       "      <td>1.0</td>\n",
       "      <td>&lt;=50K</td>\n",
       "    </tr>\n",
       "    <tr>\n",
       "      <th>2</th>\n",
       "      <td>41.0</td>\n",
       "      <td>1.0</td>\n",
       "      <td>16.0</td>\n",
       "      <td>5.0</td>\n",
       "      <td>7330.0</td>\n",
       "      <td>1.0</td>\n",
       "      <td>17.0</td>\n",
       "      <td>40.0</td>\n",
       "      <td>1.0</td>\n",
       "      <td>1.0</td>\n",
       "      <td>&lt;=50K</td>\n",
       "    </tr>\n",
       "    <tr>\n",
       "      <th>3</th>\n",
       "      <td>18.0</td>\n",
       "      <td>6.0</td>\n",
       "      <td>18.0</td>\n",
       "      <td>5.0</td>\n",
       "      <td>2722.0</td>\n",
       "      <td>1.0</td>\n",
       "      <td>17.0</td>\n",
       "      <td>2.0</td>\n",
       "      <td>2.0</td>\n",
       "      <td>1.0</td>\n",
       "      <td>&lt;=50K</td>\n",
       "    </tr>\n",
       "    <tr>\n",
       "      <th>4</th>\n",
       "      <td>21.0</td>\n",
       "      <td>5.0</td>\n",
       "      <td>19.0</td>\n",
       "      <td>5.0</td>\n",
       "      <td>3870.0</td>\n",
       "      <td>12.0</td>\n",
       "      <td>17.0</td>\n",
       "      <td>50.0</td>\n",
       "      <td>1.0</td>\n",
       "      <td>1.0</td>\n",
       "      <td>&lt;=50K</td>\n",
       "    </tr>\n",
       "    <tr>\n",
       "      <th>...</th>\n",
       "      <td>...</td>\n",
       "      <td>...</td>\n",
       "      <td>...</td>\n",
       "      <td>...</td>\n",
       "      <td>...</td>\n",
       "      <td>...</td>\n",
       "      <td>...</td>\n",
       "      <td>...</td>\n",
       "      <td>...</td>\n",
       "      <td>...</td>\n",
       "      <td>...</td>\n",
       "    </tr>\n",
       "    <tr>\n",
       "      <th>22263</th>\n",
       "      <td>20.0</td>\n",
       "      <td>6.0</td>\n",
       "      <td>19.0</td>\n",
       "      <td>5.0</td>\n",
       "      <td>4251.0</td>\n",
       "      <td>1.0</td>\n",
       "      <td>4.0</td>\n",
       "      <td>25.0</td>\n",
       "      <td>1.0</td>\n",
       "      <td>1.0</td>\n",
       "      <td>&lt;=50K</td>\n",
       "    </tr>\n",
       "    <tr>\n",
       "      <th>22264</th>\n",
       "      <td>63.0</td>\n",
       "      <td>1.0</td>\n",
       "      <td>16.0</td>\n",
       "      <td>1.0</td>\n",
       "      <td>440.0</td>\n",
       "      <td>1.0</td>\n",
       "      <td>0.0</td>\n",
       "      <td>48.0</td>\n",
       "      <td>1.0</td>\n",
       "      <td>1.0</td>\n",
       "      <td>&gt;50K</td>\n",
       "    </tr>\n",
       "    <tr>\n",
       "      <th>22265</th>\n",
       "      <td>65.0</td>\n",
       "      <td>2.0</td>\n",
       "      <td>21.0</td>\n",
       "      <td>5.0</td>\n",
       "      <td>420.0</td>\n",
       "      <td>1.0</td>\n",
       "      <td>2.0</td>\n",
       "      <td>40.0</td>\n",
       "      <td>2.0</td>\n",
       "      <td>1.0</td>\n",
       "      <td>&gt;50K</td>\n",
       "    </tr>\n",
       "    <tr>\n",
       "      <th>22266</th>\n",
       "      <td>37.0</td>\n",
       "      <td>1.0</td>\n",
       "      <td>16.0</td>\n",
       "      <td>4.0</td>\n",
       "      <td>340.0</td>\n",
       "      <td>6.0</td>\n",
       "      <td>0.0</td>\n",
       "      <td>50.0</td>\n",
       "      <td>2.0</td>\n",
       "      <td>1.0</td>\n",
       "      <td>&lt;=50K</td>\n",
       "    </tr>\n",
       "    <tr>\n",
       "      <th>22267</th>\n",
       "      <td>18.0</td>\n",
       "      <td>1.0</td>\n",
       "      <td>16.0</td>\n",
       "      <td>5.0</td>\n",
       "      <td>4055.0</td>\n",
       "      <td>6.0</td>\n",
       "      <td>2.0</td>\n",
       "      <td>20.0</td>\n",
       "      <td>2.0</td>\n",
       "      <td>1.0</td>\n",
       "      <td>&lt;=50K</td>\n",
       "    </tr>\n",
       "  </tbody>\n",
       "</table>\n",
       "<p>22268 rows × 11 columns</p>\n",
       "</div>"
      ],
      "text/plain": [
       "       AGEP  COW  SCHL  MAR    OCCP  POBP  RELP  WKHP  SEX  RAC1P  PINCP\n",
       "0      18.0  1.0  18.0  5.0  4720.0  13.0  17.0  21.0  2.0    2.0  <=50K\n",
       "1      53.0  5.0  17.0  5.0  3605.0  18.0  16.0  40.0  1.0    1.0  <=50K\n",
       "2      41.0  1.0  16.0  5.0  7330.0   1.0  17.0  40.0  1.0    1.0  <=50K\n",
       "3      18.0  6.0  18.0  5.0  2722.0   1.0  17.0   2.0  2.0    1.0  <=50K\n",
       "4      21.0  5.0  19.0  5.0  3870.0  12.0  17.0  50.0  1.0    1.0  <=50K\n",
       "...     ...  ...   ...  ...     ...   ...   ...   ...  ...    ...    ...\n",
       "22263  20.0  6.0  19.0  5.0  4251.0   1.0   4.0  25.0  1.0    1.0  <=50K\n",
       "22264  63.0  1.0  16.0  1.0   440.0   1.0   0.0  48.0  1.0    1.0   >50K\n",
       "22265  65.0  2.0  21.0  5.0   420.0   1.0   2.0  40.0  2.0    1.0   >50K\n",
       "22266  37.0  1.0  16.0  4.0   340.0   6.0   0.0  50.0  2.0    1.0  <=50K\n",
       "22267  18.0  1.0  16.0  5.0  4055.0   6.0   2.0  20.0  2.0    1.0  <=50K\n",
       "\n",
       "[22268 rows x 11 columns]"
      ]
     },
     "execution_count": 20,
     "metadata": {},
     "output_type": "execute_result"
    }
   ],
   "source": [
    "dfs_loaded[\"AL\"].reset_index(drop=True)"
   ]
  },
  {
   "cell_type": "code",
   "execution_count": null,
   "id": "067e7e84-6d73-4379-abdb-89054d2141a0",
   "metadata": {},
   "outputs": [],
   "source": []
  }
 ],
 "metadata": {
  "kernelspec": {
   "display_name": "Python 3 (ipykernel)",
   "language": "python",
   "name": "python3"
  },
  "language_info": {
   "codemirror_mode": {
    "name": "ipython",
    "version": 3
   },
   "file_extension": ".py",
   "mimetype": "text/x-python",
   "name": "python",
   "nbconvert_exporter": "python",
   "pygments_lexer": "ipython3",
   "version": "3.11.9"
  }
 },
 "nbformat": 4,
 "nbformat_minor": 5
}
