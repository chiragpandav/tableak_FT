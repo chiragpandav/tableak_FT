{
 "cells": [
  {
   "cell_type": "code",
   "execution_count": 1,
   "id": "f5275cc3-c94b-4735-afe0-a1c9da7c1592",
   "metadata": {},
   "outputs": [],
   "source": [
    "from folktables import ACSDataSource, ACSEmployment,ACSIncome\n",
    "import numpy as np\n",
    "from sklearn.model_selection import train_test_split\n",
    "import os\n",
    "import pandas as pd"
   ]
  },
  {
   "cell_type": "code",
   "execution_count": 2,
   "id": "9c4e9c88-5f23-4fe5-b432-cffbe9d2d6fc",
   "metadata": {},
   "outputs": [],
   "source": [
    "data_source = ACSDataSource(survey_year='2018', horizon='1-Year', survey='person')\n",
    "acs_data = data_source.get_data(states=[\"AL\",\"AK\"], download=True)\n",
    "# acs_data = data_source.get_data(download=True)"
   ]
  },
  {
   "cell_type": "code",
   "execution_count": null,
   "id": "c4023c5f-7bcf-4078-82b2-38cfa274e02b",
   "metadata": {},
   "outputs": [],
   "source": []
  },
  {
   "cell_type": "code",
   "execution_count": 3,
   "id": "7e71745b-75b4-41ad-84a6-f5eaa6f839fe",
   "metadata": {},
   "outputs": [],
   "source": [
    "# state_codes = [\"AL\", \"AK\", \"AZ\", \"AR\", \"CA\", \"CO\", \"CT\", \"DE\", \"FL\", \"GA\",\n",
    "#                \"HI\", \"ID\", \"IL\", \"IN\", \"IA\", \"KS\", \"KY\", \"LA\", \"ME\", \"MD\",\n",
    "#                \"MA\", \"MI\", \"MN\", \"MS\", \"MO\", \"MT\", \"NE\", \"NV\", \"NH\", \"NJ\",\n",
    "#                \"NM\", \"NY\", \"NC\", \"ND\", \"OH\", \"OK\", \"OR\", \"PA\", \"RI\", \"SC\",\n",
    "#                \"SD\", \"TN\", \"TX\", \"UT\", \"VT\", \"VA\", \"WA\", \"WV\", \"WI\", \"WY\"]\n",
    "\n",
    "state_codes=[\"AL\",\"AK\",\"AZ\"]\n",
    "\n",
    "dfs = {}\n",
    "for state_code in state_codes:\n",
    "    acs_data = data_source.get_data(states=[state_code],download=True)\n",
    "    features, label, group = ACSIncome.df_to_pandas(acs_data)\n",
    "    dfs[state_code] = (features, label)\n"
   ]
  },
  {
   "cell_type": "code",
   "execution_count": null,
   "id": "57d8605a-9d9d-41f9-8d99-c6dd838f73cd",
   "metadata": {},
   "outputs": [],
   "source": []
  },
  {
   "cell_type": "code",
   "execution_count": 4,
   "id": "19e92498-3e0d-4ba9-ab6e-41337a43db5f",
   "metadata": {},
   "outputs": [
    {
     "name": "stdout",
     "output_type": "stream",
     "text": [
      "State: AL, Features Length: 22268, Label Length: 22268\n",
      "State: AK, Features Length: 3546, Label Length: 3546\n",
      "State: AZ, Features Length: 33277, Label Length: 33277\n"
     ]
    }
   ],
   "source": [
    "all_len=[]\n",
    "for state_code, (features, label) in dfs.items():\n",
    "    all_len.append(len(label))\n",
    "    print(f\"State: {state_code}, Features Length: {len(features)}, Label Length: {len(label)}\")"
   ]
  },
  {
   "cell_type": "code",
   "execution_count": 5,
   "id": "055bc49d-4b43-43e9-b4c5-f9bf795dd6ac",
   "metadata": {},
   "outputs": [
    {
     "name": "stdout",
     "output_type": "stream",
     "text": [
      "State: AL, df Length: 22268\n",
      "State: AK, df Length: 3546\n",
      "State: AZ, df Length: 33277\n"
     ]
    }
   ],
   "source": [
    "merge_dfs={}\n",
    "\n",
    "for state_code, (features, label) in dfs.items():    \n",
    "    merge_df = pd.concat([features, label], axis=1)\n",
    "    merge_df = merge_df.dropna()\n",
    "    merge_df['PINCP'] = merge_df['PINCP'].replace({True: '>50K', False: '<=50K'})\n",
    "    merge_dfs[state_code] = merge_df\n",
    "    \n",
    "for state_code, df in merge_dfs.items():\n",
    "    print(f\"State: {state_code}, df Length: {len(df)}\")"
   ]
  },
  {
   "cell_type": "code",
   "execution_count": null,
   "id": "1e5893c7-1c44-4470-9a4a-981875fb0bd5",
   "metadata": {},
   "outputs": [],
   "source": []
  },
  {
   "cell_type": "code",
   "execution_count": null,
   "id": "31859954-cdc0-4fd0-b440-4213ea51ec6e",
   "metadata": {},
   "outputs": [],
   "source": []
  },
  {
   "cell_type": "code",
   "execution_count": null,
   "id": "2238996f-c5eb-45f9-aa73-696c4af4b85c",
   "metadata": {},
   "outputs": [],
   "source": []
  },
  {
   "cell_type": "code",
   "execution_count": 6,
   "id": "345e0f30-f1bc-4a98-9f5a-c5ce2ceef8c3",
   "metadata": {},
   "outputs": [],
   "source": [
    "import pickle\n",
    "\n",
    "# Save the dictionary to a file\n",
    "with open('dfs.pickle', 'wb') as f:\n",
    "    pickle.dump(merge_dfs, f)"
   ]
  },
  {
   "cell_type": "code",
   "execution_count": 7,
   "id": "01e78f35-2ce1-482d-84b6-864887a4b649",
   "metadata": {},
   "outputs": [],
   "source": [
    "with open('dfs.pickle', 'rb') as f:\n",
    "    dfs_loaded = pickle.load(f)"
   ]
  },
  {
   "cell_type": "code",
   "execution_count": 8,
   "id": "7a09286a-9238-4621-aaaf-ee6e5a8ae7e0",
   "metadata": {},
   "outputs": [
    {
     "name": "stdout",
     "output_type": "stream",
     "text": [
      "   AGEP  COW  SCHL  MAR    OCCP  POBP  RELP  WKHP  SEX  RAC1P  PINCP\n",
      "0  18.0  1.0  18.0  5.0  4720.0  13.0  17.0  21.0  2.0    2.0  <=50K\n",
      "1  53.0  5.0  17.0  5.0  3605.0  18.0  16.0  40.0  1.0    1.0  <=50K\n",
      "2  41.0  1.0  16.0  5.0  7330.0   1.0  17.0  40.0  1.0    1.0  <=50K\n",
      "3  18.0  6.0  18.0  5.0  2722.0   1.0  17.0   2.0  2.0    1.0  <=50K\n",
      "4  21.0  5.0  19.0  5.0  3870.0  12.0  17.0  50.0  1.0    1.0  <=50K\n",
      "State: AL, df Length: 22268\n",
      "   AGEP  COW  SCHL  MAR    OCCP  POBP  RELP  WKHP  SEX  RAC1P  PINCP\n",
      "0  19.0  5.0  16.0  5.0  5120.0  48.0  17.0  40.0  2.0    5.0  <=50K\n",
      "1  23.0  1.0  18.0  5.0  9130.0   2.0  17.0  77.0  1.0    1.0  <=50K\n",
      "2  19.0  1.0  19.0  5.0  4521.0   2.0  17.0  70.0  1.0    6.0  <=50K\n",
      "3  33.0  3.0  17.0  3.0  8140.0   2.0  16.0  40.0  1.0    1.0  <=50K\n",
      "4  62.0  1.0  19.0  1.0  1050.0  29.0  17.0  84.0  1.0    9.0   >50K\n",
      "State: AK, df Length: 3546\n",
      "   AGEP  COW  SCHL  MAR    OCCP   POBP  RELP  WKHP  SEX  RAC1P  PINCP\n",
      "0  19.0  1.0  16.0  5.0  4150.0    4.0  17.0  20.0  2.0    1.0  <=50K\n",
      "1  30.0  4.0  19.0  1.0  7840.0    4.0  16.0  40.0  1.0    1.0  <=50K\n",
      "2  45.0  6.0  19.0  4.0  6355.0  303.0  17.0  40.0  1.0    1.0  <=50K\n",
      "3  21.0  4.0  16.0  5.0  8140.0    6.0  17.0  40.0  1.0    8.0   >50K\n",
      "4  20.0  4.0  16.0  5.0  2016.0    4.0  17.0  10.0  2.0    1.0  <=50K\n",
      "State: AZ, df Length: 33277\n"
     ]
    }
   ],
   "source": [
    "for state_code, df in dfs_loaded.items():\n",
    "    print(df.head())\n",
    "    print(f\"State: {state_code}, df Length: {len(df)}\")"
   ]
  },
  {
   "cell_type": "code",
   "execution_count": null,
   "id": "959b43df-eeba-4511-aa1b-63ca13d3e641",
   "metadata": {},
   "outputs": [],
   "source": []
  },
  {
   "cell_type": "code",
   "execution_count": null,
   "id": "f9626be7-4eea-4c4b-b8a7-3e5b6da8512a",
   "metadata": {},
   "outputs": [],
   "source": []
  },
  {
   "cell_type": "code",
   "execution_count": 9,
   "id": "b7181252-c9fd-42c0-9572-b4df6c423a58",
   "metadata": {},
   "outputs": [],
   "source": [
    "for state_code, df in dfs_loaded.items():\n",
    "    df_temp=dfs_loaded[state_code].reset_index(drop=True)\n",
    "    train_data, test_data = train_test_split(df_temp, test_size=0.2, random_state=42)\n",
    "    \n",
    "    train_data.to_csv(f'50_clients_data/raw_data/{state_code}.data', header=False, index=False)\n",
    "    \n",
    "    test_data['PINCP'] = test_data['PINCP'].astype(str) + '.'\n",
    "\n",
    "    test_data.to_csv(f'50_clients_data/raw_data/{state_code}.test', header=False, index=False)\n",
    "    \n",
    "    # df_temp.to_csv(f'50_clients_data/raw_data/{state_code}.csv', header=False, index=False)"
   ]
  },
  {
   "cell_type": "code",
   "execution_count": null,
   "id": "ab2bcfec-1bc9-4006-967c-319c38674046",
   "metadata": {},
   "outputs": [],
   "source": []
  },
  {
   "cell_type": "markdown",
   "id": "8c1376b9-a9fa-4fba-a86c-0ff7cdb31ac3",
   "metadata": {},
   "source": [
    "# Take random 100 data points from Clients"
   ]
  },
  {
   "cell_type": "code",
   "execution_count": null,
   "id": "0fb4f2c3-8925-4eca-b02c-0fc587d0c7ab",
   "metadata": {},
   "outputs": [],
   "source": []
  },
  {
   "cell_type": "code",
   "execution_count": 13,
   "id": "53278426-c2de-435c-9412-30ed7b824e7c",
   "metadata": {},
   "outputs": [],
   "source": [
    "# Training Ground Truth"
   ]
  },
  {
   "cell_type": "code",
   "execution_count": 10,
   "id": "6e457c06-dd39-4322-8a15-96598d18ff17",
   "metadata": {},
   "outputs": [],
   "source": [
    "folder_path = '50_clients_data/raw_data/'\n",
    "for file_name in os.listdir(folder_path):\n",
    "    if file_name.endswith('.data'):\n",
    "        df = pd.read_csv(os.path.join(folder_path, file_name), header=None)\n",
    "        temp_df=df.sample(n=100)\n",
    "        base_name = os.path.splitext(file_name)[0]\n",
    "        temp_df.to_csv(f'50_clients_data/client_raw_data_100_sample/{base_name}_100.data', header=False, index=False)\n"
   ]
  },
  {
   "cell_type": "code",
   "execution_count": 19,
   "id": "b01d8752-eb85-433e-83fc-267827a536d6",
   "metadata": {},
   "outputs": [],
   "source": [
    "\n",
    "\n",
    "# Testing"
   ]
  },
  {
   "cell_type": "code",
   "execution_count": 11,
   "id": "a04ac7ac-48c0-4ca2-97b2-1e4d749cec1d",
   "metadata": {},
   "outputs": [],
   "source": [
    "folder_path = '50_clients_data/raw_data/'\n",
    "for file_name in os.listdir(folder_path):\n",
    "    if file_name.endswith('.test'):\n",
    "        df = pd.read_csv(os.path.join(folder_path, file_name), header=None)\n",
    "        temp_df=df.sample(n=100)\n",
    "        base_name = os.path.splitext(file_name)[0]\n",
    "        temp_df.to_csv(f'50_clients_data/client_raw_data_100_test/{base_name}_100.test', header=False, index=False)"
   ]
  },
  {
   "cell_type": "code",
   "execution_count": null,
   "id": "3203b808-683a-4a75-8677-0b95094eb45e",
   "metadata": {},
   "outputs": [],
   "source": []
  },
  {
   "cell_type": "code",
   "execution_count": 19,
   "id": "462240da-8b3b-4480-806a-3d944c123056",
   "metadata": {},
   "outputs": [],
   "source": [
    "# for state_code, df in dfs_loaded.items():\n",
    "#     df_temp=dfs_loaded[state_code].reset_index(drop=True)\n",
    "#     train_data, test_data = train_test_split(df_temp, test_size=0.2, random_state=42)\n",
    "    \n",
    "#     train_data.to_csv(f'50_clients_data/client_raw_data_100_sample/{state_code}_100.data', header=False, index=False)\n",
    "\n",
    "# sample_100_AK.to_csv(f'50_clients_data/raw_data/AK_100.data', header=False, index=False)"
   ]
  },
  {
   "cell_type": "code",
   "execution_count": null,
   "id": "97d94878-6ed1-4a55-a4ab-594ad3a5de80",
   "metadata": {},
   "outputs": [],
   "source": []
  },
  {
   "cell_type": "code",
   "execution_count": null,
   "id": "baf4ff9e-8740-4e77-9f91-469535298d49",
   "metadata": {},
   "outputs": [],
   "source": []
  },
  {
   "cell_type": "code",
   "execution_count": 21,
   "id": "a93aad86-252d-4a8c-a4f6-661ca48862e7",
   "metadata": {},
   "outputs": [],
   "source": [
    "# for state_code, (features, label) in dfs.items():\n",
    "#     # take 30%\n",
    "#     num_rows_to_keep = int(len(features) * 0.3) \n",
    "#     random_indices = np.random.choice(len(features), num_rows_to_keep, replace=False)\n",
    "#     reduced_features = features.iloc[random_indices]\n",
    "#     reduced_label = label.iloc[random_indices]\n",
    "#     dfs[state_code] = (reduced_features, reduced_label)\n",
    "\n",
    "# for state_code, (reduced_features, reduced_label) in dfs.items():\n",
    "#     print(f\"State: {state_code}, Reduced Features Length: {len(reduced_features)}, Reduced Label Length: {len(reduced_label)}\")"
   ]
  },
  {
   "cell_type": "code",
   "execution_count": 58,
   "id": "a55148d4-3246-4808-ad56-98a288027ce1",
   "metadata": {},
   "outputs": [],
   "source": [
    "import pickle\n",
    "\n",
    "# Save the dictionary to a file\n",
    "with open('dfs.pickle', 'wb') as f:\n",
    "    pickle.dump(merge_dfs, f)"
   ]
  },
  {
   "cell_type": "code",
   "execution_count": 59,
   "id": "c36daf13-b0c9-443d-893f-48b468e56723",
   "metadata": {},
   "outputs": [],
   "source": [
    "with open('dfs.pickle', 'rb') as f:\n",
    "    dfs_loaded = pickle.load(f)"
   ]
  },
  {
   "cell_type": "code",
   "execution_count": 60,
   "id": "869ef307-92e7-481b-98a0-bb2f0f8e4a81",
   "metadata": {},
   "outputs": [
    {
     "name": "stdout",
     "output_type": "stream",
     "text": [
      "State: AL, df Length: 4454\n",
      "State: AK, df Length: 709\n",
      "State: AZ, df Length: 6655\n",
      "State: AR, df Length: 2786\n",
      "State: CA, df Length: 39133\n",
      "State: CO, df Length: 6261\n",
      "State: CT, df Length: 3957\n",
      "State: DE, df Length: 943\n",
      "State: FL, df Length: 19785\n",
      "State: GA, df Length: 10183\n",
      "State: HI, df Length: 1546\n",
      "State: ID, df Length: 1653\n",
      "State: IL, df Length: 13403\n",
      "State: IN, df Length: 7004\n",
      "State: IA, df Length: 3549\n",
      "State: KS, df Length: 3161\n",
      "State: KY, df Length: 4401\n",
      "State: LA, df Length: 4133\n",
      "State: ME, df Length: 1400\n",
      "State: MD, df Length: 6608\n",
      "State: MA, df Length: 8023\n",
      "State: MI, df Length: 10002\n",
      "State: MN, df Length: 6204\n",
      "State: MS, df Length: 2638\n",
      "State: MO, df Length: 6333\n",
      "State: MT, df Length: 1093\n",
      "State: NE, df Length: 2157\n",
      "State: NV, df Length: 2961\n",
      "State: NH, df Length: 1593\n",
      "State: NJ, df Length: 9556\n",
      "State: NM, df Length: 1742\n",
      "State: NY, df Length: 20604\n",
      "State: NC, df Length: 10413\n",
      "State: ND, df Length: 891\n",
      "State: OH, df Length: 12427\n",
      "State: OK, df Length: 3583\n",
      "State: OR, df Length: 4384\n",
      "State: PA, df Length: 13662\n",
      "State: RI, df Length: 1142\n",
      "State: SC, df Length: 4976\n",
      "State: SD, df Length: 980\n",
      "State: TN, df Length: 6801\n",
      "State: TX, df Length: 27185\n",
      "State: UT, df Length: 3267\n",
      "State: VT, df Length: 753\n",
      "State: VA, df Length: 9229\n",
      "State: WA, df Length: 7989\n",
      "State: WV, df Length: 1621\n",
      "State: WI, df Length: 6538\n",
      "State: WY, df Length: 613\n"
     ]
    }
   ],
   "source": [
    "for state_code, df in dfs_loaded.items():\n",
    "    print(f\"State: {state_code}, df Length: {len(df)}\")"
   ]
  },
  {
   "cell_type": "code",
   "execution_count": 61,
   "id": "a7a2d099-4666-42e0-8243-db5888c33c3a",
   "metadata": {},
   "outputs": [
    {
     "data": {
      "text/html": [
       "<div>\n",
       "<style scoped>\n",
       "    .dataframe tbody tr th:only-of-type {\n",
       "        vertical-align: middle;\n",
       "    }\n",
       "\n",
       "    .dataframe tbody tr th {\n",
       "        vertical-align: top;\n",
       "    }\n",
       "\n",
       "    .dataframe thead th {\n",
       "        text-align: right;\n",
       "    }\n",
       "</style>\n",
       "<table border=\"1\" class=\"dataframe\">\n",
       "  <thead>\n",
       "    <tr style=\"text-align: right;\">\n",
       "      <th></th>\n",
       "      <th>AGEP</th>\n",
       "      <th>COW</th>\n",
       "      <th>SCHL</th>\n",
       "      <th>MAR</th>\n",
       "      <th>OCCP</th>\n",
       "      <th>POBP</th>\n",
       "      <th>RELP</th>\n",
       "      <th>WKHP</th>\n",
       "      <th>SEX</th>\n",
       "      <th>RAC1P</th>\n",
       "      <th>PINCP</th>\n",
       "    </tr>\n",
       "  </thead>\n",
       "  <tbody>\n",
       "    <tr>\n",
       "      <th>0</th>\n",
       "      <td>20.0</td>\n",
       "      <td>2.0</td>\n",
       "      <td>16.0</td>\n",
       "      <td>5.0</td>\n",
       "      <td>5420.0</td>\n",
       "      <td>48.0</td>\n",
       "      <td>0.0</td>\n",
       "      <td>12.0</td>\n",
       "      <td>2.0</td>\n",
       "      <td>1.0</td>\n",
       "      <td>&lt;=50K</td>\n",
       "    </tr>\n",
       "    <tr>\n",
       "      <th>1</th>\n",
       "      <td>27.0</td>\n",
       "      <td>3.0</td>\n",
       "      <td>19.0</td>\n",
       "      <td>1.0</td>\n",
       "      <td>2320.0</td>\n",
       "      <td>18.0</td>\n",
       "      <td>0.0</td>\n",
       "      <td>40.0</td>\n",
       "      <td>2.0</td>\n",
       "      <td>1.0</td>\n",
       "      <td>&lt;=50K</td>\n",
       "    </tr>\n",
       "    <tr>\n",
       "      <th>2</th>\n",
       "      <td>56.0</td>\n",
       "      <td>1.0</td>\n",
       "      <td>19.0</td>\n",
       "      <td>5.0</td>\n",
       "      <td>4710.0</td>\n",
       "      <td>48.0</td>\n",
       "      <td>15.0</td>\n",
       "      <td>50.0</td>\n",
       "      <td>1.0</td>\n",
       "      <td>1.0</td>\n",
       "      <td>&gt;50K</td>\n",
       "    </tr>\n",
       "    <tr>\n",
       "      <th>3</th>\n",
       "      <td>27.0</td>\n",
       "      <td>1.0</td>\n",
       "      <td>21.0</td>\n",
       "      <td>5.0</td>\n",
       "      <td>4000.0</td>\n",
       "      <td>48.0</td>\n",
       "      <td>0.0</td>\n",
       "      <td>38.0</td>\n",
       "      <td>2.0</td>\n",
       "      <td>1.0</td>\n",
       "      <td>&lt;=50K</td>\n",
       "    </tr>\n",
       "    <tr>\n",
       "      <th>4</th>\n",
       "      <td>76.0</td>\n",
       "      <td>3.0</td>\n",
       "      <td>21.0</td>\n",
       "      <td>1.0</td>\n",
       "      <td>5940.0</td>\n",
       "      <td>35.0</td>\n",
       "      <td>1.0</td>\n",
       "      <td>13.0</td>\n",
       "      <td>1.0</td>\n",
       "      <td>1.0</td>\n",
       "      <td>&lt;=50K</td>\n",
       "    </tr>\n",
       "    <tr>\n",
       "      <th>...</th>\n",
       "      <td>...</td>\n",
       "      <td>...</td>\n",
       "      <td>...</td>\n",
       "      <td>...</td>\n",
       "      <td>...</td>\n",
       "      <td>...</td>\n",
       "      <td>...</td>\n",
       "      <td>...</td>\n",
       "      <td>...</td>\n",
       "      <td>...</td>\n",
       "      <td>...</td>\n",
       "    </tr>\n",
       "    <tr>\n",
       "      <th>27180</th>\n",
       "      <td>60.0</td>\n",
       "      <td>1.0</td>\n",
       "      <td>16.0</td>\n",
       "      <td>1.0</td>\n",
       "      <td>9130.0</td>\n",
       "      <td>48.0</td>\n",
       "      <td>0.0</td>\n",
       "      <td>40.0</td>\n",
       "      <td>1.0</td>\n",
       "      <td>1.0</td>\n",
       "      <td>&lt;=50K</td>\n",
       "    </tr>\n",
       "    <tr>\n",
       "      <th>27181</th>\n",
       "      <td>74.0</td>\n",
       "      <td>1.0</td>\n",
       "      <td>21.0</td>\n",
       "      <td>1.0</td>\n",
       "      <td>4435.0</td>\n",
       "      <td>6.0</td>\n",
       "      <td>0.0</td>\n",
       "      <td>45.0</td>\n",
       "      <td>1.0</td>\n",
       "      <td>1.0</td>\n",
       "      <td>&gt;50K</td>\n",
       "    </tr>\n",
       "    <tr>\n",
       "      <th>27182</th>\n",
       "      <td>43.0</td>\n",
       "      <td>1.0</td>\n",
       "      <td>16.0</td>\n",
       "      <td>5.0</td>\n",
       "      <td>4720.0</td>\n",
       "      <td>48.0</td>\n",
       "      <td>0.0</td>\n",
       "      <td>40.0</td>\n",
       "      <td>2.0</td>\n",
       "      <td>1.0</td>\n",
       "      <td>&lt;=50K</td>\n",
       "    </tr>\n",
       "    <tr>\n",
       "      <th>27183</th>\n",
       "      <td>32.0</td>\n",
       "      <td>1.0</td>\n",
       "      <td>19.0</td>\n",
       "      <td>5.0</td>\n",
       "      <td>5410.0</td>\n",
       "      <td>6.0</td>\n",
       "      <td>0.0</td>\n",
       "      <td>40.0</td>\n",
       "      <td>1.0</td>\n",
       "      <td>1.0</td>\n",
       "      <td>&gt;50K</td>\n",
       "    </tr>\n",
       "    <tr>\n",
       "      <th>27184</th>\n",
       "      <td>26.0</td>\n",
       "      <td>3.0</td>\n",
       "      <td>21.0</td>\n",
       "      <td>5.0</td>\n",
       "      <td>2545.0</td>\n",
       "      <td>48.0</td>\n",
       "      <td>2.0</td>\n",
       "      <td>38.0</td>\n",
       "      <td>2.0</td>\n",
       "      <td>1.0</td>\n",
       "      <td>&lt;=50K</td>\n",
       "    </tr>\n",
       "  </tbody>\n",
       "</table>\n",
       "<p>27185 rows × 11 columns</p>\n",
       "</div>"
      ],
      "text/plain": [
       "       AGEP  COW  SCHL  MAR    OCCP  POBP  RELP  WKHP  SEX  RAC1P  PINCP\n",
       "0      20.0  2.0  16.0  5.0  5420.0  48.0   0.0  12.0  2.0    1.0  <=50K\n",
       "1      27.0  3.0  19.0  1.0  2320.0  18.0   0.0  40.0  2.0    1.0  <=50K\n",
       "2      56.0  1.0  19.0  5.0  4710.0  48.0  15.0  50.0  1.0    1.0   >50K\n",
       "3      27.0  1.0  21.0  5.0  4000.0  48.0   0.0  38.0  2.0    1.0  <=50K\n",
       "4      76.0  3.0  21.0  1.0  5940.0  35.0   1.0  13.0  1.0    1.0  <=50K\n",
       "...     ...  ...   ...  ...     ...   ...   ...   ...  ...    ...    ...\n",
       "27180  60.0  1.0  16.0  1.0  9130.0  48.0   0.0  40.0  1.0    1.0  <=50K\n",
       "27181  74.0  1.0  21.0  1.0  4435.0   6.0   0.0  45.0  1.0    1.0   >50K\n",
       "27182  43.0  1.0  16.0  5.0  4720.0  48.0   0.0  40.0  2.0    1.0  <=50K\n",
       "27183  32.0  1.0  19.0  5.0  5410.0   6.0   0.0  40.0  1.0    1.0   >50K\n",
       "27184  26.0  3.0  21.0  5.0  2545.0  48.0   2.0  38.0  2.0    1.0  <=50K\n",
       "\n",
       "[27185 rows x 11 columns]"
      ]
     },
     "execution_count": 61,
     "metadata": {},
     "output_type": "execute_result"
    }
   ],
   "source": [
    "dfs_loaded[\"TX\"].reset_index(drop=True)"
   ]
  },
  {
   "cell_type": "code",
   "execution_count": null,
   "id": "067e7e84-6d73-4379-abdb-89054d2141a0",
   "metadata": {},
   "outputs": [],
   "source": []
  }
 ],
 "metadata": {
  "kernelspec": {
   "display_name": "Python 3 (ipykernel)",
   "language": "python",
   "name": "python3"
  },
  "language_info": {
   "codemirror_mode": {
    "name": "ipython",
    "version": 3
   },
   "file_extension": ".py",
   "mimetype": "text/x-python",
   "name": "python",
   "nbconvert_exporter": "python",
   "pygments_lexer": "ipython3",
   "version": "3.8.10"
  }
 },
 "nbformat": 4,
 "nbformat_minor": 5
}
